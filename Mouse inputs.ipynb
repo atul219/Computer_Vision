{
 "cells": [
  {
   "cell_type": "code",
   "execution_count": 1,
   "metadata": {},
   "outputs": [],
   "source": [
    "import cv2\n",
    "import numpy as np"
   ]
  },
  {
   "cell_type": "code",
   "execution_count": 4,
   "metadata": {},
   "outputs": [],
   "source": [
    "def detect_quadrant(event , x , y, flags , param):\n",
    "    if event == cv2.EVENT_LBUTTONDOWN:\n",
    "        if x > width/2:\n",
    "            if y > height/2:\n",
    "                point_top_left = (int(width/2) , int(height/2))\n",
    "                point_bottom_right = (width -1 , height -1)\n",
    "            \n",
    "            else:\n",
    "                point_top_left = (int(width/2) , 0)\n",
    "                point_bottom_right = (width - 1 , int(height/2))\n",
    "        \n",
    "        else:\n",
    "            if y > height/2:\n",
    "                point_top_left = (0 , int(height/2))\n",
    "                point_bottom_right = (int(width/2) , height -1)\n",
    "            else:\n",
    "                point_top_left = (0,0)\n",
    "                point_bottom_right = (int(width/2) , int(height/2))\n",
    "                \n",
    "        \n",
    "        cv2.rectangle(img , (0,0) , (width -1 , height -1) , (255,255,255) , -1)\n",
    "        \n",
    "        cv2.rectangle(img , point_top_left , point_bottom_right , (0,100,0) , -1)"
   ]
  },
  {
   "cell_type": "code",
   "execution_count": 5,
   "metadata": {},
   "outputs": [],
   "source": [
    "if __name__ == '__main__':\n",
    "    width, height = 640 , 480\n",
    "    img = 255 * np.ones((height , width , 3) , dtype = np.uint8)\n",
    "    cv2.namedWindow('Input Window')\n",
    "    cv2.setMouseCallback('Input Window' , detect_quadrant)\n",
    "    \n",
    "    while True:\n",
    "        cv2.imshow('Input Window' , img)\n",
    "        c = cv2.waitKey(10)\n",
    "        if c == 27:\n",
    "            break\n",
    "    \n",
    "    cv2.destroyAllWindows()"
   ]
  },
  {
   "cell_type": "code",
   "execution_count": null,
   "metadata": {},
   "outputs": [],
   "source": []
  }
 ],
 "metadata": {
  "kernelspec": {
   "display_name": "Python 3",
   "language": "python",
   "name": "python3"
  },
  "language_info": {
   "codemirror_mode": {
    "name": "ipython",
    "version": 3
   },
   "file_extension": ".py",
   "mimetype": "text/x-python",
   "name": "python",
   "nbconvert_exporter": "python",
   "pygments_lexer": "ipython3",
   "version": "3.6.5"
  },
  "latex_envs": {
   "LaTeX_envs_menu_present": true,
   "autoclose": false,
   "autocomplete": true,
   "bibliofile": "biblio.bib",
   "cite_by": "apalike",
   "current_citInitial": 1,
   "eqLabelWithNumbers": true,
   "eqNumInitial": 1,
   "hotkeys": {
    "equation": "Ctrl-E",
    "itemize": "Ctrl-I"
   },
   "labels_anchors": false,
   "latex_user_defs": false,
   "report_style_numbering": false,
   "user_envs_cfg": false
  }
 },
 "nbformat": 4,
 "nbformat_minor": 2
}
