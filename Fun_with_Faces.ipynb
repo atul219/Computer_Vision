{
 "cells": [
  {
   "cell_type": "code",
   "execution_count": 4,
   "metadata": {},
   "outputs": [],
   "source": [
    "import cv2\n",
    "import numpy as np"
   ]
  },
  {
   "cell_type": "code",
   "execution_count": 5,
   "metadata": {},
   "outputs": [],
   "source": [
    "face_cascade = cv2.CascadeClassifier('./Cascade_Classifier/haarcascade_frontalface_default.xml')"
   ]
  },
  {
   "cell_type": "code",
   "execution_count": 13,
   "metadata": {},
   "outputs": [],
   "source": [
    "face_mask = cv2.imread('./mask_images/iron_man_mask.png')\n",
    "# select rows and col from mask image\n",
    "h_mask , w_mask = face_mask.shape[:2]"
   ]
  },
  {
   "cell_type": "code",
   "execution_count": 14,
   "metadata": {},
   "outputs": [],
   "source": [
    "if face_cascade.empty():\n",
    "    raise IOError(\"Unable to load face cascade classifier file\")\n",
    "    \n",
    "cap = cv2.VideoCapture(0)\n",
    "scaling_factor = 0.5\n",
    "\n",
    "while True:\n",
    "    ret, frame = cap.read()\n",
    "    frame = cv2.resize(frame , None , fx = scaling_factor , fy = scaling_factor , interpolation = cv2.INTER_AREA)\n",
    "    gray = cv2.cvtColor(frame , cv2.COLOR_BGR2GRAY)\n",
    "    face = cv2.cvtColor(frame, cv2.COLOR_BGR2GRAY)\n",
    "    \n",
    "    face_rects = face_cascade.detectMultiScale(gray, 1.3, 5)    \n",
    "    for (x,y,w,h) in face_rects:        \n",
    "        if h > 0 and w > 0:            \n",
    "        # Adjust the height and weight parameters depending  on the sizes and the locations. You need to play around with  these to make sure you get it right.            \n",
    "            h, w = int(1.4*h), int(1.0*w)            \n",
    "            y -= 0.1*h\n",
    "            # Extract the region of interest from the image            \n",
    "            frame_roi = frame[y:y+h, x:x+w]            \n",
    "            face_mask_small = cv2.resize(face_mask, (w, h),  interpolation=cv2.INTER_AREA)\n",
    "            # Convert color image to grayscale and threshold it            \n",
    "            gray_mask = cv2.cvtColor(face_mask_small, cv2.COLOR_BGR2GRAY)            \n",
    "            ret, mask = cv2.threshold(gray_mask, 180, 255,  cv2.THRESH_BINARY_INV)\n",
    "            # Create an inverse mask            \n",
    "            mask_inv = cv2.bitwise_not(mask)\n",
    "            # Use the mask to extract the face mask region of  interest            \n",
    "            masked_face = cv2.bitwise_and(face_mask_small, face_mask_small, mask=mask)\n",
    "            # Use the inverse mask to get the remaining part of  the image            \n",
    "            masked_frame = cv2.bitwise_and(frame_roi,  frame_roi, mask=mask_inv)\n",
    "            # add the two images to get the final output            \n",
    "            frame[y:y+h, x:x+w] = cv2.add(masked_face,  masked_frame)\n",
    "    \n",
    "    cv2.imshow('Face Detector', frame)\n",
    "    c = cv2.waitKey(1)    \n",
    "    if c == 27:       \n",
    "        break\n",
    "cap.release() \n",
    "cv2.destroyAllWindows()\n",
    "                        \n",
    "    "
   ]
  },
  {
   "cell_type": "code",
   "execution_count": null,
   "metadata": {},
   "outputs": [],
   "source": []
  }
 ],
 "metadata": {
  "kernelspec": {
   "display_name": "Python 3",
   "language": "python",
   "name": "python3"
  },
  "language_info": {
   "codemirror_mode": {
    "name": "ipython",
    "version": 3
   },
   "file_extension": ".py",
   "mimetype": "text/x-python",
   "name": "python",
   "nbconvert_exporter": "python",
   "pygments_lexer": "ipython3",
   "version": "3.6.5"
  },
  "latex_envs": {
   "LaTeX_envs_menu_present": true,
   "autoclose": false,
   "autocomplete": true,
   "bibliofile": "biblio.bib",
   "cite_by": "apalike",
   "current_citInitial": 1,
   "eqLabelWithNumbers": true,
   "eqNumInitial": 1,
   "hotkeys": {
    "equation": "Ctrl-E",
    "itemize": "Ctrl-I"
   },
   "labels_anchors": false,
   "latex_user_defs": false,
   "report_style_numbering": false,
   "user_envs_cfg": false
  }
 },
 "nbformat": 4,
 "nbformat_minor": 2
}
