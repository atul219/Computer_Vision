{
 "cells": [
  {
   "cell_type": "code",
   "execution_count": 1,
   "metadata": {},
   "outputs": [],
   "source": [
    "import cv2\n",
    "import numpy as np"
   ]
  },
  {
   "cell_type": "code",
   "execution_count": 2,
   "metadata": {},
   "outputs": [],
   "source": [
    "def cartoonize_image(img , ds_factor = 4 , sketch_mode = False):\n",
    "    # convert image to gray\n",
    "    img_gray = cv2.cvtColor(img , cv2.COLOR_BGR2GRAY)\n",
    "    \n",
    "    # add median filter to gray image\n",
    "    # to remove salt and pepper noise\n",
    "    img_gray = cv2.medianBlur(img_gray , 7)\n",
    "    \n",
    "    # detect edges in the image and threshold it\n",
    "    edges = cv2.Laplacian(img_gray , cv2.CV_8U , ksize = 5)\n",
    "    ret , mask = cv2.threshold(edges , 100 , 255 , cv2.THRESH_BINARY_INV)\n",
    "    \n",
    "    # 'mask' is the sketch of the image\n",
    "    if sketch_mode:\n",
    "        # if you dont want thick lines then just return this\n",
    "        # cv2.cvtColor(mask , cv2.COLOR_)\n",
    "        # for thick lines\n",
    "        img_sketch = cv2.cvtColor(mask , cv2.COLOR_GRAY2BGR)\n",
    "        kernel = np.ones((3,3) , dtype = np.uint8)\n",
    "        img_eroded = cv2.erode(img_sketch , kernel , iterations = 1)\n",
    "        return cv2.medianBlur(img_eroded , 5)\n",
    "        \n",
    "    \n",
    "    # resize the image to a smaller size for faster computation\n",
    "    img_small = cv2.resize(img , None , fx = 1.0/ds_factor , fy = 1.0/ds_factor , interpolation = cv2.INTER_AREA)\n",
    "    \n",
    "    num_repetations = 100\n",
    "    sigma_color = 5\n",
    "    sigma_space = 7\n",
    "    size = 5\n",
    "    \n",
    "    # apply bilateral filter the image multiple times\n",
    "    for i in range(num_repetations):\n",
    "        img_small = cv2.bilateralFilter(img_small , size, sigma_color , sigma_space)\n",
    "        \n",
    "    img_output = cv2.resize(img_small , None , fx = ds_factor , fy = ds_factor , interpolation = cv2.INTER_AREA)\n",
    "        \n",
    "    dst = np.zeros(img_gray.shape)\n",
    "        \n",
    "    # add the thick boundary lines to the image using 'AND' operator\n",
    "    dst = cv2.bitwise_and(img_output , img_output , mask = mask)\n",
    "        \n",
    "    return dst"
   ]
  },
  {
   "cell_type": "code",
   "execution_count": 3,
   "metadata": {},
   "outputs": [],
   "source": [
    "if __name__ == '__main__':\n",
    "    cap = cv2.VideoCapture(0)\n",
    "    \n",
    "    cur_char = -1\n",
    "    prev_char = -1\n",
    "    \n",
    "    while True:\n",
    "        ret, frame = cap.read()\n",
    "        frame = cv2.resize(frame , None , fx = 0.5 , fy = 0.5 , interpolation = cv2.INTER_AREA)\n",
    "        \n",
    "        c = cv2.waitKey(1)\n",
    "        if c == 27:\n",
    "            break\n",
    "        \n",
    "        if c > -1 and c != prev_char:\n",
    "            cur_char = c\n",
    "        prev_char = c\n",
    "        \n",
    "        if cur_char == ord('s'):\n",
    "            cv2.imshow('Cartoonize' , cartoonize_image(frame , sketch_mode = True))\n",
    "            \n",
    "        elif cur_char == ord('c'):\n",
    "            cv2.imshow(\"Cartoonize\" , cartoonize_image(frame , sketch_mode = False))\n",
    "            \n",
    "        else:\n",
    "            cv2.imshow(\"Cartoonize\" , frame)\n",
    "            \n",
    "    cap.release()\n",
    "    cv2.destroyAllWindows()"
   ]
  },
  {
   "cell_type": "code",
   "execution_count": null,
   "metadata": {},
   "outputs": [],
   "source": []
  }
 ],
 "metadata": {
  "kernelspec": {
   "display_name": "Python 3",
   "language": "python",
   "name": "python3"
  },
  "language_info": {
   "codemirror_mode": {
    "name": "ipython",
    "version": 3
   },
   "file_extension": ".py",
   "mimetype": "text/x-python",
   "name": "python",
   "nbconvert_exporter": "python",
   "pygments_lexer": "ipython3",
   "version": "3.6.5"
  },
  "latex_envs": {
   "LaTeX_envs_menu_present": true,
   "autoclose": false,
   "autocomplete": true,
   "bibliofile": "biblio.bib",
   "cite_by": "apalike",
   "current_citInitial": 1,
   "eqLabelWithNumbers": true,
   "eqNumInitial": 1,
   "hotkeys": {
    "equation": "Ctrl-E",
    "itemize": "Ctrl-I"
   },
   "labels_anchors": false,
   "latex_user_defs": false,
   "report_style_numbering": false,
   "user_envs_cfg": false
  }
 },
 "nbformat": 4,
 "nbformat_minor": 2
}
